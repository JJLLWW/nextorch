{
 "cells": [
  {
   "cell_type": "markdown",
   "metadata": {},
   "source": [
    "# Example 5 - Plug flow reactor yield\n",
    "\n",
    "In this example, we will demonstrate how Bayesian Optimization can locate the optimal conditions for a plug flow reactor (PFR) and produce the maximum yield. The PFR model is developed for the acid-catalyzed dehydration of fructose to HMF using HCl as the catalyst. \n",
    "\n",
    "\n",
    "The analytical form of the objective function is encoded in the PFR model. It is a set of ordinary differential equations (ODEs). The input parameters (`X`) are \n",
    "- T - reaction temperature (°C)\n",
    "- pH - reaction pH \n",
    "- tf - final residence time (min)\n",
    "\n",
    "At each instance, the PFR model solves the ODEs and would return the steady state yield, i.e, the reponse `Y`.\n",
    "\n",
    "The computational cost to solve the objective function is high. As a result, the trained Gaussian Process (GP) serves as an efficient surrogate model for prediction tasks. \n",
    "\n",
    "The details of this example is summarized in the table below:\n",
    "\n",
    "| Key Item      | Description |\n",
    "| :----------------- | :---------------------------- |\n",
    "| Goal | Maximization |\n",
    "| Objective function | PFR model |\n",
    "| Input (X) dimension | 3 |\n",
    "| Output (Y) dimension | 1 |\n",
    "| Analytical form available? | Yes |\n",
    "| Acqucision function | Expected improvement (EI) |\n",
    "| Initial Sampling | Full factorial or latin hypercube | \n",
    "\n",
    "Next, we will go through each step in Bayesian Optimization.\n"
   ]
  },
  {
   "cell_type": "markdown",
   "metadata": {},
   "source": [
    "## 1. Import `nextorch` and other packages"
   ]
  },
  {
   "cell_type": "code",
   "execution_count": null,
   "metadata": {},
   "outputs": [],
   "source": [
    "import os\n",
    "import sys\n",
    "import time\n",
    "\n",
    "project_path = os.path.abspath(os.path.join(os.path.dirname(__file__), '..'))\n",
    "sys.path.insert(0, project_path)\n",
    "\n",
    "# Set the path for objective function\n",
    "objective_path = os.path.join(project_path, 'examples', 'PFR')\n",
    "sys.path.insert(0, objective_path)\n",
    "\n",
    "import numpy as np\n",
    "from nextorch import plotting, bo, doe, utils"
   ]
  },
  {
   "cell_type": "markdown",
   "metadata": {},
   "source": [
    "## 2. Define the objective function and the design space\n",
    "We import the PFR model, and use a Python function called `PFR_yield` as the objective function `objective_func`. \n",
    "\n",
    "The ranges of the input X are specified. "
   ]
  },
  {
   "cell_type": "code",
   "execution_count": null,
   "metadata": {},
   "outputs": [],
   "source": [
    "#%% Define the objective function\n",
    "from fructose_pfr_model_function import Reactor\n",
    "\n",
    "def PFR_yield(X_real):\n",
    "    \"\"\"PFR model\n",
    "\n",
    "    Parameters\n",
    "    ----------\n",
    "    X_real : numpy matrix\n",
    "        reactor parameters: \n",
    "        T, pH and tf in real scales\n",
    "\n",
    "    Returns\n",
    "    -------\n",
    "    Y_real: numpy matrix\n",
    "        reactor yield \n",
    "    \"\"\"\n",
    "    if len(X_real.shape) < 2:\n",
    "        X_real = np.expand_dims(X_real, axis=1) #If 1D, make it 2D array\n",
    "        \n",
    "    Y_real = []\n",
    "    for i, xi in enumerate(X_real):\n",
    "        Conditions = {'T_degC (C)': xi[0], 'pH': xi[1], 'tf (min)' : 10**xi[2]}\n",
    "        yi, _ = Reactor(**Conditions)        \n",
    "        Y_real.append(yi)\n",
    "            \n",
    "    Y_real = np.array(Y_real)\n",
    "    # Put y in a column\n",
    "    Y_real = np.expand_dims(Y_real, axis=1)\n",
    "        \n",
    "    return Y_real # HMF yield, HMF selectivity\n",
    "\n",
    "# Objective function\n",
    "objective_func = PFR_yield\n",
    "\n",
    "\n",
    "#%% Define the design space\n",
    "# Three input temperature C, pH, log10(residence time)\n",
    "X_name_list = ['T', 'pH', r'$\\rm log_{10}(tf_{min})$']\n",
    "X_units = [r'$\\rm ^oC $', '', '']\n",
    "\n",
    "# Add the units\n",
    "X_name_with_unit = []\n",
    "for i, var in enumerate(X_name_list):\n",
    "    if not X_units[i]  == '':\n",
    "        var = var + ' ('+ X_units[i] + ')'\n",
    "    X_name_with_unit.append(var)\n",
    "    \n",
    "# One output\n",
    "Y_name_with_unit = 'Yield %'\n",
    "\n",
    "# Specify range     \n",
    "X_ranges =  [[140, 200], [0, 1], [-2, 2]]\n",
    "\n",
    "# Set the reponse range\n",
    "Y_plot_range = [0, 50]\n",
    "\n",
    "# Get the information of the design space\n",
    "n_dim = len(X_name_list) # the dimension of inputs\n",
    "n_objective = 1 # the dimension of outputs"
   ]
  },
  {
   "cell_type": "markdown",
   "metadata": {},
   "source": [
    "## 3. Define the initial sampling plan\n",
    "Here we compare two sampling plans with the same number of sampling points:\n",
    "\n",
    "1. Full factorial (FF) design with levels of 4 and 16 points in total. \n",
    "2. Latin hypercube (LHC) design with 10 initial sampling points, and 6 more Bayesian Optimization trials\n",
    "\n",
    "The initial reponse in a real scale `Y_init_real` is computed from the helper function `bo.eval_objective_func(X_init, X_ranges, objective_func)`, given `X_init` in unit scales."
   ]
  },
  {
   "cell_type": "code",
   "execution_count": null,
   "metadata": {},
   "outputs": [],
   "source": [
    "#%% Initial Sampling \n",
    "# Full factorial design \n",
    "n_ff_level = 4\n",
    "n_ff = n_ff_level**n_dim\n",
    "X_init_ff = doe.full_factorial([n_ff_level, n_ff_level, n_ff_level])\n",
    "# Get the initial responses\n",
    "Y_init_ff = bo.eval_objective_func(X_init_ff, X_ranges, objective_func)\n",
    "\n",
    "# Latin hypercube design with 10 initial points\n",
    "n_init_lhc = 10\n",
    "X_init_lhc = doe.latin_hypercube(n_dim = n_dim, n_points = n_init_lhc, seed= 1)\n",
    "# Get the initial responses\n",
    "Y_init_lhc = bo.eval_objective_func(X_init_lhc, X_ranges, objective_func)\n",
    "\n",
    "# Compare the two sampling plans\n",
    "plotting.sampling_3d([X_init_ff, X_init_lhc], \n",
    "                     X_names = X_name_with_unit,\n",
    "                     X_ranges = X_ranges,\n",
    "                     design_names = ['FF', 'LHC'])"
   ]
  },
  {
   "cell_type": "markdown",
   "metadata": {},
   "source": [
    "## 4. Initialize an `Experiment` object \n",
    "\n",
    "Next, we initialize two `Experiment` objects for FF and LHC, respectively. We also set the objective function and the goal as maximization. \n",
    "\n",
    "We will train two GP models. Some progress status will be printed out.\n",
    "\n"
   ]
  },
  {
   "cell_type": "code",
   "execution_count": null,
   "metadata": {},
   "outputs": [],
   "source": [
    "#%% Initialize an Experiment object\n",
    "# Set its name, the files will be saved under the folder with the same name\n",
    "Exp_ff = bo.Experiment('PFR_yield_ff') \n",
    "# Import the initial data\n",
    "Exp_ff.input_data(X_init_ff, Y_init_ff, X_ranges = X_ranges, unit_flag = True)\n",
    "# Set the optimization specifications \n",
    "# here we set the objective function, minimization by default\n",
    "Exp_ff.set_optim_specs(objective_func = objective_func, \n",
    "                        maximize =  True)\n",
    "\n",
    "\n",
    "# Set its name, the files will be saved under the folder with the same name\n",
    "Exp_lhc = bo.Experiment('PFR_yield_lhc') \n",
    "# Import the initial data\n",
    "Exp_lhc.input_data(X_init_lhc, Y_init_lhc, X_ranges = X_ranges, unit_flag = True)\n",
    "# Set the optimization specifications \n",
    "# here we set the objective function, minimization by default\n",
    "Exp_lhc.set_optim_specs(objective_func = objective_func, \n",
    "                        maximize =  True)"
   ]
  },
  {
   "cell_type": "markdown",
   "metadata": {},
   "source": [
    "## 5. Run trials \n",
    "We perform 6 more Bayesian Optimization trials for the LHC design using the default acquisition function (Expected Improvement (EI)). "
   ]
  },
  {
   "cell_type": "code",
   "execution_count": null,
   "metadata": {},
   "outputs": [],
   "source": [
    "#%% Optimization loop\n",
    "# Set the number of iterations  \n",
    "n_trials_lhc = n_ff - n_init_lhc\n",
    "for i in range(n_trials_lhc):\n",
    "    # Generate the next experiment point\n",
    "    X_new, X_new_real, acq_func = Exp_lhc.generate_next_point()\n",
    "    # Get the reponse at this point\n",
    "    Y_new_real = objective_func(X_new_real) \n",
    "    # or \n",
    "    # Y_new_real = bo.eval_objective_func(X_new, X_ranges, objective_func)\n",
    "\n",
    "    # Retrain the model by input the next point into Exp object\n",
    "    Exp_lhc.run_trial(X_new, X_new_real, Y_new_real)\n"
   ]
  },
  {
   "cell_type": "markdown",
   "metadata": {},
   "source": [
    "## 6. Visualize the final model reponses\n",
    "We would like to see how sampling points scattered in the 3D space. A 2D slices of the 3D space is visualized below at a fixed x value . "
   ]
  },
  {
   "cell_type": "code",
   "execution_count": null,
   "metadata": {},
   "outputs": [],
   "source": [
    "#%% plots \n",
    "# Check the sampling points\n",
    "# Final lhc Sampling\n",
    "x2_fixed_real = 0.7 # fixed x2 value\n",
    "x_indices = [0, 2] # 0-indexing, for x1 and x3\n",
    "plotting.sampling_3d_exp(Exp_lhc, \n",
    "                         slice_axis = 'y', \n",
    "                         slice_value_real = x2_fixed_real)    \n",
    "                         \n",
    "# Compare to full factorial\n",
    "plotting.sampling_3d([Exp_ff.X, Exp_lhc.X], \n",
    "                     X_ranges = X_ranges,\n",
    "                     design_names = ['FF', 'LHC'],\n",
    "                     slice_axis = 'y', \n",
    "                     slice_value_real = x2_fixed_real)"
   ]
  },
  {
   "cell_type": "markdown",
   "metadata": {},
   "source": [
    "By fixing the value of pH (`x2`), we can plot the 2D reponse surfaces by varying T (`x1`) and tf (`x3`). It takes a long time to get the reponses from the objective function. \n",
    "\n",
    "To create a heatmap, we generate `mesh_size` (by default = 20) test points along one dimension. The following code indicates that evaluting the GP surrogate model is much faster than calling the objective function. "
   ]
  },
  {
   "cell_type": "code",
   "execution_count": null,
   "metadata": {},
   "outputs": [],
   "source": [
    "# Reponse heatmaps\n",
    "# Objective function heatmap\n",
    "# (this takes a long time)\n",
    "print('Objective function heatmap: ')\n",
    "plotting.objective_heatmap(objective_func, \n",
    "                          X_ranges, \n",
    "                          Y_real_range = Y_plot_range, \n",
    "                          x_indices = x_indices, \n",
    "                          fixed_values_real = x2_fixed_real)\n",
    "# LHC heatmap \n",
    "print('LHC model heatmap: ')\n",
    "plotting.response_heatmap_exp(Exp_lhc, \n",
    "                              Y_real_range = Y_plot_range, \n",
    "                              x_indices = x_indices, \n",
    "                              fixed_values_real = x2_fixed_real)\n",
    "# full factorial heatmap\n",
    "print('Full factorial model heatmap: ')\n",
    "plotting.response_heatmap_exp(Exp_ff, \n",
    "                              Y_real_range = Y_plot_range,\n",
    "                              x_indices = x_indices, \n",
    "                              fixed_values_real = x2_fixed_real)"
   ]
  },
  {
   "cell_type": "markdown",
   "metadata": {},
   "source": [
    "The rates can also be plotted as response surfaces in 3D."
   ]
  },
  {
   "cell_type": "code",
   "execution_count": null,
   "metadata": {},
   "outputs": [],
   "source": [
    "# Suface plots   \n",
    "# Objective function surface plot  \n",
    "#(this takes a long time)\n",
    "print('Objective function surface: ')\n",
    "plotting.objective_surface(objective_func, \n",
    "                          X_ranges, \n",
    "                          Y_real_range = Y_plot_range, \n",
    "                          x_indices = x_indices, \n",
    "                          fixed_values_real = x2_fixed_real)\n",
    "\n",
    "# LHC heatmap\n",
    "print('Full fatorial model surface: ')\n",
    "plotting.response_surface_exp(Exp_lhc, \n",
    "                              Y_real_range = Y_plot_range,\n",
    "                              x_indices = x_indices, \n",
    "                              fixed_values_real = x2_fixed_real)\n",
    "\n",
    "# full fatorial error heatmap\n",
    "print('LHC model surface: ')\n",
    "plotting.response_surface_exp(Exp_ff, \n",
    "                              Y_real_range = Y_plot_range,\n",
    "                              x_indices = x_indices, \n",
    "                              fixed_values_real = x2_fixed_real)\n",
    "\n",
    "\n",
    "# Compare two plans in terms optimum in each trial\n",
    "plotting.opt_per_trial([Exp_ff.Y_real, Exp_lhc.Y_real], \n",
    "                       design_names = ['Full Fatorial', 'LHC'])\n"
   ]
  },
  {
   "cell_type": "markdown",
   "metadata": {},
   "source": [
    "## 7. Export the optimum\n",
    "\n",
    "Compare two plans in terms optimum discovered in each trial."
   ]
  },
  {
   "cell_type": "code",
   "execution_count": null,
   "metadata": {},
   "outputs": [],
   "source": [
    "plotting.opt_per_trial([Exp_ff.Y_real, Exp_lhc.Y_real], \n",
    "                       design_names = ['FF', 'LHC'])"
   ]
  },
  {
   "cell_type": "markdown",
   "metadata": {},
   "source": [
    "Obtain the optimum from each method. \n",
    "_Use dataframe_"
   ]
  },
  {
   "cell_type": "code",
   "execution_count": null,
   "metadata": {},
   "outputs": [],
   "source": [
    "# lhc optimum\n",
    "y_opt_lhc, X_opt_lhc, index_opt_lhc = Exp_lhc.get_optim()\n",
    "print('From LHC + Bayesian Optimization, ')\n",
    "print('The best reponse is rate = {} at P = {}'.format(y_opt_lhc, X_opt_lhc))\n",
    "\n",
    "# FF optimum\n",
    "y_opt_ff, X_opt_ff, index_opt_ff = Exp_ff.get_optim()\n",
    "print('From full factorial design, ')\n",
    "print('The best reponse is rate = {} at P = {}'.format(y_opt_ff, X_opt_ff))"
   ]
  },
  {
   "cell_type": "markdown",
   "metadata": {},
   "source": [
    "From above plots, we see both LHC + Bayesian Optimization and full factorial design locate the same optimum point in this 2D example. "
   ]
  },
  {
   "cell_type": "code",
   "execution_count": null,
   "metadata": {},
   "outputs": [],
   "source": []
  }
 ],
 "metadata": {
  "kernelspec": {
   "display_name": "Python 3",
   "language": "python",
   "name": "python3"
  },
  "language_info": {
   "codemirror_mode": {
    "name": "ipython",
    "version": 3
   },
   "file_extension": ".py",
   "mimetype": "text/x-python",
   "name": "python",
   "nbconvert_exporter": "python",
   "pygments_lexer": "ipython3",
   "version": "3.7.4"
  }
 },
 "nbformat": 4,
 "nbformat_minor": 2
}